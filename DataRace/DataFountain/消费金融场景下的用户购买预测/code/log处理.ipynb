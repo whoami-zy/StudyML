{
 "cells": [
  {
   "cell_type": "code",
   "execution_count": null,
   "metadata": {},
   "outputs": [],
   "source": [
    "import pandas as pd\n",
    "import time\n",
    "import numpy as np\n",
    "from datetime import datetime\n",
    "from collections import Counter"
   ]
  },
  {
   "cell_type": "code",
   "execution_count": null,
   "metadata": {},
   "outputs": [],
   "source": [
    "reader = pd.read_csv('./train/train_log.csv',header=0,sep='\\t',iterator=True)"
   ]
  },
  {
   "cell_type": "code",
   "execution_count": null,
   "metadata": {},
   "outputs": [],
   "source": [
    "loop = True\n",
    "chunkSize = 100000\n",
    "chunks = []\n",
    "while loop:\n",
    "    try:\n",
    "        chunk = reader.get_chunk(chunkSize)\n",
    "        #print(chunk.head())\n",
    "        chunk[['day','hour']] = chunk.OCC_TIM.apply(lambda x :pd.Series([i for i in x.split(\" \")]))\n",
    "        chunks.append(chunk)\n",
    "    except StopIteration:\n",
    "        loop = False\n",
    "        print(\"Iteration is stopped.\")\n",
    "df = pd.concat(chunks, ignore_index=True)"
   ]
  },
  {
   "cell_type": "code",
   "execution_count": null,
   "metadata": {},
   "outputs": [],
   "source": [
    "# 统计一个月的每天点击次数\n",
    "dict_uid = {}\n",
    "for i in range(len(df)):\n",
    "    u_list=[0,0,0,0,0,0,0,0,0,0,0,0,0,0,0,0,0,0,0,0,0,0,0,0,0,0,0,0,0,0,0]\n",
    "    uid = df.USRID[i]\n",
    "    day = df.day[i]\n",
    "    index_day = int(day.split('-')[2])\n",
    "    if dict_uid.__contains__(uid):\n",
    "        getlist = dict_uid.get(uid)\n",
    "        getlist[index_day-1] = getlist[index_day-1] + 1\n",
    "        dict_uid[uid] = getlist\n",
    "    else:\n",
    "        u_list[index_day-1] = 1\n",
    "        dict_uid[uid] = u_list"
   ]
  },
  {
   "cell_type": "code",
   "execution_count": null,
   "metadata": {},
   "outputs": [],
   "source": [
    "monthDF = pd.DataFrame(dict_uid).T\n",
    "monthDF['USRID'] = monthDF.index\n",
    "monthDF.reset_index(drop=True,inplace=True)\n",
    "columnsList = []\n",
    "for i in range(31):\n",
    "    columnsList.append('month_'+str(i))\n",
    "columnsList.append('USRID')\n",
    "monthDF.columns = columnsList\n",
    "monthDF.head()"
   ]
  },
  {
   "cell_type": "code",
   "execution_count": null,
   "metadata": {},
   "outputs": [],
   "source": [
    "# 时间间隔处理\n",
    "log = df.copy()\n",
    "log['OCC_TIM_c'] = log['OCC_TIM'].apply(lambda x:time.mktime(time.strptime(x, \"%Y-%m-%d %H:%M:%S\")))\n",
    "log['week'] = log['OCC_TIM'].apply(lambda x : datetime.strptime(x,\"%Y-%m-%d %H:%M:%S\").weekday())\n",
    "log = log.sort_values(['USRID','OCC_TIM_c'])\n",
    "log['next_time'] = log.groupby(['USRID'])['OCC_TIM_c'].diff(-1).apply(np.abs)\n",
    "log['EVT_LBL_1'] = log['EVT_LBL'].apply(lambda x:x.split('-')[0])\n",
    "log['EVT_LBL_2'] = log['EVT_LBL'].apply(lambda x:x.split('-')[1])\n",
    "log['EVT_LBL_3'] = log['EVT_LBL'].apply(lambda x:x.split('-')[2])\n",
    "time_jiange = log.groupby(['USRID'],as_index=False)['next_time'].agg({\n",
    "    'next_time_mean':np.mean,\n",
    "    'next_time_std':np.std,\n",
    "    'next_time_min':np.min,\n",
    "    'next_time_max':np.max\n",
    "})"
   ]
  },
  {
   "cell_type": "code",
   "execution_count": null,
   "metadata": {},
   "outputs": [],
   "source": [
    "# 浏览类别  groupby agg 联合使用\n",
    "def getLbl(a):\n",
    "    return len(set(a))\n",
    "def getLbl_max(a):\n",
    "    return Counter(list(a)).most_common(1)[0][1]\n",
    "lbl_1_fea = log.groupby(['USRID'],as_index=False)['EVT_LBL_1'].agg({\n",
    "    'lbl_1_num':getLbl,\n",
    "    'lbl_1_maxnum':getLbl_max\n",
    "})\n",
    "lbl_2_fea = log.groupby(['USRID'],as_index=False)['EVT_LBL_2'].agg({\n",
    "    'lbl_2_num':getLbl,\n",
    "    'lbl_2_maxnum':getLbl_max\n",
    "})\n",
    "lbl_3_fea = log.groupby(['USRID'],as_index=False)['EVT_LBL_3'].agg({\n",
    "    'lbl_3_num':getLbl,\n",
    "    'lbl_3_maxnum':getLbl_max\n",
    "})"
   ]
  },
  {
   "cell_type": "code",
   "execution_count": null,
   "metadata": {},
   "outputs": [],
   "source": [
    "lbl_split = pd.merge(pd.merge(lbl_1_fea,lbl_2_fea,on='USRID'),lbl_3_fea,on='USRID')"
   ]
  },
  {
   "cell_type": "code",
   "execution_count": null,
   "metadata": {},
   "outputs": [],
   "source": [
    "# 获得星1到周末的点击量\n",
    "def getWeek1Features(a):\n",
    "    try:\n",
    "        return int(a.value_counts()[0])\n",
    "    except Exception as e:\n",
    "        return 0\n",
    "def getWeek2Features(a):\n",
    "    try:\n",
    "        return int(a.value_counts()[1])\n",
    "    except Exception as e:\n",
    "        return 0\n",
    "def getWeek3Features(a):\n",
    "    try:\n",
    "        return int(a.value_counts()[2])\n",
    "    except Exception as e:\n",
    "        return 0\n",
    "def getWeek4Features(a):\n",
    "    try:\n",
    "        return int(a.value_counts()[3])\n",
    "    except Exception as e:\n",
    "        return 0\n",
    "def getWeek5Features(a):\n",
    "    try:\n",
    "        return int(a.value_counts()[4])\n",
    "    except Exception as e:\n",
    "        return 0\n",
    "def getWeek6Features(a):\n",
    "    try:\n",
    "        return int(a.value_counts()[5])\n",
    "    except Exception as e:\n",
    "        return 0\n",
    "def getWeek7Features(a):\n",
    "    try:\n",
    "        return int(a.value_counts()[6])\n",
    "    except Exception as e:\n",
    "        return 0\n",
    "week1 = log.groupby(['USRID'],as_index=False)['week'].agg({\n",
    "    'week1':getWeek1Features\n",
    "})\n",
    "week2 = log.groupby(['USRID'],as_index=False)['week'].agg({\n",
    "    'week2':getWeek2Features\n",
    "})\n",
    "week3 = log.groupby(['USRID'],as_index=False)['week'].agg({\n",
    "    'week3':getWeek3Features\n",
    "})\n",
    "week4 = log.groupby(['USRID'],as_index=False)['week'].agg({\n",
    "    'week4':getWeek4Features\n",
    "})\n",
    "week5 = log.groupby(['USRID'],as_index=False)['week'].agg({\n",
    "    'week5':getWeek5Features\n",
    "})\n",
    "week6 = log.groupby(['USRID'],as_index=False)['week'].agg({\n",
    "    'week6':getWeek6Features\n",
    "})\n",
    "week7 = log.groupby(['USRID'],as_index=False)['week'].agg({\n",
    "    'week7':getWeek7Features\n",
    "})"
   ]
  },
  {
   "cell_type": "code",
   "execution_count": null,
   "metadata": {},
   "outputs": [],
   "source": [
    "week1_2 = pd.merge(week1,week2,on='USRID')\n",
    "week1_2_3 = pd.merge(week1_2,week3,on='USRID')\n",
    "week1_2_3_4 = pd.merge(week1_2_3,week4,on='USRID')\n",
    "week1_2_3_4_5 = pd.merge(week1_2_3_4,week5,on='USRID')\n",
    "week1_2_3_4_5_6 = pd.merge(week1_2_3_4_5,week6,on='USRID')\n",
    "week = pd.merge(week1_2_3_4_5_6,week7,on='USRID')"
   ]
  },
  {
   "cell_type": "code",
   "execution_count": null,
   "metadata": {},
   "outputs": [],
   "source": [
    "def timeSplit(dic,str):\n",
    "    t = int(str.split(':')[0])\n",
    "    if t>=23 or t<1:\n",
    "        dic['23-01'] = dic['23-01'] + 1\n",
    "    if t>=1 and t<3:\n",
    "        dic['01-03'] = dic['01-03'] + 1\n",
    "    if t>=3 and t<5:\n",
    "        dic['03-05'] = dic['03-05'] + 1\n",
    "    if t>=5 and t<7:\n",
    "        dic['05-07'] = dic['05-07'] + 1\n",
    "    if t>=7 and t<9:\n",
    "        dic['07-09'] = dic['07-09'] + 1\n",
    "    if t>=9 and t<11:\n",
    "        dic['09-11'] = dic['09-11'] + 1\n",
    "    if t>=11 and t<13:\n",
    "        dic['11-13'] = dic['11-13'] + 1\n",
    "    if t>=13 and t<15:\n",
    "        dic['13-15'] = dic['13-15'] + 1\n",
    "    if t>=15 and t<17:\n",
    "        dic['15-17'] = dic['15-17'] + 1\n",
    "    if t>=17 and t<19:\n",
    "        dic['17-19'] = dic['17-19'] + 1\n",
    "    if t>=19 and t<21:\n",
    "        dic['19-21'] = dic['19-21'] + 1\n",
    "    if t>=21 and t<23:\n",
    "        dic['21-23'] = dic['21-23'] + 1"
   ]
  },
  {
   "cell_type": "code",
   "execution_count": null,
   "metadata": {},
   "outputs": [],
   "source": [
    "def TCH_TypeSplit(dic,str):\n",
    "    if str == 0:\n",
    "        dic['app'] = dic['app'] + 1\n",
    "    if str == 1:\n",
    "        dic['web'] = dic['web'] + 1\n",
    "    if str == 2:\n",
    "        dic['h5'] = dic['h5'] + 1"
   ]
  },
  {
   "cell_type": "code",
   "execution_count": null,
   "metadata": {},
   "outputs": [],
   "source": [
    "Result_list=[]\n",
    "for name, group in df.groupby('USRID'):\n",
    "    dict_x={}\n",
    "    dict_x['USRID'] = name\n",
    "    dict_x['MC'] = len(group)\n",
    "    dict_x['DC'] = len(group.day.drop_duplicates())\n",
    "    dict_x['CC'] = len(group.EVT_LBL.drop_duplicates())\n",
    "    dict_t={'23-01':0,'01-03':0,'03-05':0,'05-07':0,'07-09':0,'09-11':0,'11-13':0,'13-15':0,'15-17':0,'17-19':0,'19-21':0,'21-23':0}\n",
    "    group.hour.map(lambda x:timeSplit(dict_t,x))\n",
    "    dict_type={'app':0,'web':0,'h5':0}\n",
    "    group.TCH_TYP.map(lambda x:TCH_TypeSplit(dict_type,x))\n",
    "    dict_all = {**dict_x, **dict_t,**dict_type}\n",
    "    Result_list.append(dict_all)   \n",
    "    "
   ]
  },
  {
   "cell_type": "code",
   "execution_count": null,
   "metadata": {},
   "outputs": [],
   "source": [
    "time_split = pd.DataFrame(Result_list)"
   ]
  },
  {
   "cell_type": "code",
   "execution_count": null,
   "metadata": {},
   "outputs": [],
   "source": [
    "result_a = pd.merge(time_split,time_jiange,how='left',on='USRID')\n",
    "result_b = pd.merge(result_a,lbl_split,how='left',on='USRID')\n",
    "result = pd.merge(result_b,week,how='left',on='USRID')"
   ]
  },
  {
   "cell_type": "code",
   "execution_count": null,
   "metadata": {},
   "outputs": [],
   "source": [
    "resut_end = pd.merge(result,monthDF,how='left',on='USRID')"
   ]
  },
  {
   "cell_type": "code",
   "execution_count": null,
   "metadata": {},
   "outputs": [],
   "source": [
    "resut_end.to_csv('./train/train_log_re_4.csv',sep='\\t',index=False)"
   ]
  },
  {
   "cell_type": "code",
   "execution_count": null,
   "metadata": {},
   "outputs": [],
   "source": [
    "resut_end.corr()"
   ]
  },
  {
   "cell_type": "code",
   "execution_count": null,
   "metadata": {},
   "outputs": [],
   "source": []
  },
  {
   "cell_type": "code",
   "execution_count": null,
   "metadata": {},
   "outputs": [],
   "source": []
  }
 ],
 "metadata": {
  "kernelspec": {
   "display_name": "Python 3",
   "language": "python",
   "name": "python3"
  },
  "language_info": {
   "codemirror_mode": {
    "name": "ipython",
    "version": 3
   },
   "file_extension": ".py",
   "mimetype": "text/x-python",
   "name": "python",
   "nbconvert_exporter": "python",
   "pygments_lexer": "ipython3",
   "version": "3.6.5"
  }
 },
 "nbformat": 4,
 "nbformat_minor": 2
}
