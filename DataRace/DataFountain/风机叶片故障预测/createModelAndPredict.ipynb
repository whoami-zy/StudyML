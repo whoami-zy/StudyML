{
 "cells": [
  {
   "cell_type": "markdown",
   "metadata": {},
   "source": [
    "### 引入相关包\n",
    "    版本说明：\n",
    "        python3.6.5 \n",
    "        conda 4.5.4  "
   ]
  },
  {
   "cell_type": "code",
   "execution_count": 8,
   "metadata": {},
   "outputs": [],
   "source": [
    "import numpy as np\n",
    "import pandas as pd\n",
    "# 数据拆分\n",
    "from sklearn.model_selection import StratifiedKFold\n",
    "# 评分标准\n",
    "from sklearn.metrics import f1_score\n",
    "# 机器学习库\n",
    "import lightgbm as lgb\n",
    "# auc评判\n",
    "from sklearn.metrics import roc_auc_score"
   ]
  },
  {
   "cell_type": "markdown",
   "metadata": {},
   "source": [
    "### 读取特征文件，以及标签文件"
   ]
  },
  {
   "cell_type": "code",
   "execution_count": 2,
   "metadata": {},
   "outputs": [],
   "source": [
    "\"\"\"\n",
    "trainDF 读取构造好的训练集特征\n",
    "testDF  读取构造好的测试集特征\n",
    "trainLabel 读取标签文件\n",
    "\"\"\"\n",
    "trainDF = pd.read_csv('./data/train_feature.csv',header=0)\n",
    "testDF = pd.read_csv('./data/test_feature.csv',header=0)\n",
    "trainLabel = pd.read_csv('./data/train_labels.csv',header=0)"
   ]
  },
  {
   "cell_type": "code",
   "execution_count": 3,
   "metadata": {},
   "outputs": [],
   "source": [
    "# 删除f_id列\n",
    "trainLabel = trainLabel.drop('f_id',1)"
   ]
  },
  {
   "cell_type": "markdown",
   "metadata": {},
   "source": [
    "### 构造训练集，将特征和标签结合"
   ]
  },
  {
   "cell_type": "code",
   "execution_count": 4,
   "metadata": {},
   "outputs": [],
   "source": [
    "\"\"\"\n",
    "train_label_df 训练集特征和标签相结合，数据中，有些标签是没有的，这里使用left Join\n",
    "features_x 划分训练集特征\n",
    "features_y 划分测试集标签\n",
    "\n",
    "\"\"\"\n",
    "train_label_df = pd.merge(trainLabel,trainDF,on='file_name',how='left')\n",
    "features_x = train_label_df.drop('ret',1).drop('file_name',1).get_values()\n",
    "features_y = train_label_df['ret'].get_values()"
   ]
  },
  {
   "cell_type": "markdown",
   "metadata": {},
   "source": [
    "### 构造测试集"
   ]
  },
  {
   "cell_type": "code",
   "execution_count": 6,
   "metadata": {},
   "outputs": [],
   "source": [
    "\"\"\"\n",
    "test  构造测试集\n",
    "predID 保存文件ID，提交ID\n",
    "\n",
    "\"\"\"\n",
    "test = testDF.drop('file_name',1).get_values()\n",
    "predID = testDF['file_name']"
   ]
  },
  {
   "cell_type": "markdown",
   "metadata": {},
   "source": [
    "### 构造模型，这里使用5折交叉验证"
   ]
  },
  {
   "cell_type": "code",
   "execution_count": 9,
   "metadata": {},
   "outputs": [
    {
     "name": "stdout",
     "output_type": "stream",
     "text": [
      "Start training...\n",
      "Training until validation scores don't improve for 50 rounds.\n",
      "Early stopping, best iteration is:\n",
      "[1]\tvalid_0's auc: 0.535128\n",
      "Start predicting...\n",
      "Start training...\n",
      "Training until validation scores don't improve for 50 rounds.\n",
      "Early stopping, best iteration is:\n",
      "[67]\tvalid_0's auc: 0.739184\n",
      "Start predicting...\n",
      "Start training...\n",
      "Training until validation scores don't improve for 50 rounds.\n",
      "Early stopping, best iteration is:\n",
      "[155]\tvalid_0's auc: 0.679213\n",
      "Start predicting...\n",
      "Start training...\n",
      "Training until validation scores don't improve for 50 rounds.\n",
      "Early stopping, best iteration is:\n",
      "[50]\tvalid_0's auc: 0.669215\n",
      "Start predicting...\n",
      "Start training...\n",
      "Training until validation scores don't improve for 50 rounds.\n",
      "Early stopping, best iteration is:\n",
      "[60]\tvalid_0's auc: 0.613543\n",
      "Start predicting...\n",
      "xx_cv 0.647256636615283\n",
      "xx_f1score 0.6662260344223212\n",
      "xx_f1score29 0.6633712500681306\n",
      "xx_f1score4 0.6525128242783649\n",
      "xx_f1score35 0.6434704770366099\n"
     ]
    }
   ],
   "source": [
    "# N是交叉验证，5 折\n",
    "N = 5\n",
    "skf = StratifiedKFold(n_splits=N,shuffle=False,random_state=42)\n",
    "\n",
    "# 寻找阈值，不同的阈值，放入不同的list中\n",
    "xx_cv = []\n",
    "xx_f1score = []\n",
    "xx_f1score29 = []\n",
    "xx_f1score4 = []\n",
    "xx_f1score35 = []\n",
    "# 预测结果\n",
    "xx_pred = []\n",
    "for train_in,test_in in skf.split(features_x,features_y):\n",
    "    # 构造训练集和验证集\n",
    "    X_train,X_test,y_train,y_test = features_x[train_in],features_x[test_in],features_y[train_in],features_y[test_in]\n",
    "    \n",
    "    # 创建lightGBM 输入数据，以及验证集\n",
    "    lgb_train = lgb.Dataset(X_train, y_train)\n",
    "    lgb_eval = lgb.Dataset(X_test, y_test, reference=lgb_train)\n",
    "\n",
    "    # lgm输入参数\n",
    "    params = {\n",
    "        'boosting_type': 'gbdt',\n",
    "        'objective': 'binary',\n",
    "        'metric': {'auc'},\n",
    "        'num_leaves': 30,\n",
    "        'learning_rate': 0.01,\n",
    "        'feature_fraction': 0.7,\n",
    "        'bagging_fraction': 0.8,\n",
    "        'bagging_freq': 4,\n",
    "        'verbose': 0,\n",
    "        'lambda_l2':0.5,\n",
    "        'lambda_l1':0.2\n",
    "    }\n",
    "    params['is_unbalance']='false'\n",
    "    params['max_bin'] = 100\n",
    "    params['min_data_in_leaf'] = 200\n",
    "    print('Start training...')\n",
    "    # 训练模型，这里使用的是lgm,提升树\n",
    "    gbm = lgb.train(params,\n",
    "                    lgb_train,\n",
    "                    num_boost_round=20000,\n",
    "                    valid_sets=lgb_eval,\n",
    "                    verbose_eval=500,\n",
    "                    early_stopping_rounds=50)\n",
    "\n",
    "    print('Start predicting...')\n",
    "    y_pred = gbm.predict(X_test, num_iteration=gbm.best_iteration)\n",
    "    xx_cv.append(roc_auc_score(y_test,y_pred))\n",
    "    # 预测测试集，并将验证集的分数存入list\n",
    "    xx_pred.append(gbm.predict(test, num_iteration=gbm.best_iteration))\n",
    "    xx_f1score.append(f1_score(y_test, pd.Series(y_pred).map(lambda x: 1 if x>0.3 else 0), average='binary'))\n",
    "    xx_f1score29.append(f1_score(y_test, pd.Series(y_pred).map(lambda x: 1 if x>0.29 else 0), average='binary'))\n",
    "    xx_f1score4.append(f1_score(y_test, pd.Series(y_pred).map(lambda x: 1 if x>0.4 else 0), average='binary'))\n",
    "    xx_f1score35.append(f1_score(y_test, pd.Series(y_pred).map(lambda x: 1 if x>0.35 else 0), average='binary'))\n",
    "print('xx_cv',np.mean(xx_cv))\n",
    "print('xx_f1score',np.mean(xx_f1score))\n",
    "print('xx_f1score29',np.mean(xx_f1score29))\n",
    "print('xx_f1score4',np.mean(xx_f1score4))\n",
    "print('xx_f1score35',np.mean(xx_f1score35))"
   ]
  },
  {
   "cell_type": "markdown",
   "metadata": {},
   "source": [
    "### 根据上面选择的阈值分数，选择最优的阈值。0.3。这里使用了5折，相当于构建了5个模型，每个模型都有一个结果，然后将结果进行投票选取最终结果。"
   ]
  },
  {
   "cell_type": "code",
   "execution_count": 10,
   "metadata": {},
   "outputs": [],
   "source": [
    "s = 0\n",
    "for i in xx_pred:\n",
    "    s += pd.Series(i).map(lambda x : 1 if x>0.3 else 0)\n",
    "s = s.map(lambda x : 1 if x>3 else 0)"
   ]
  },
  {
   "cell_type": "markdown",
   "metadata": {},
   "source": [
    "### 构造提交结果"
   ]
  },
  {
   "cell_type": "code",
   "execution_count": 11,
   "metadata": {},
   "outputs": [],
   "source": [
    "res = pd.DataFrame()\n",
    "res['id'] = predID\n",
    "res['ret'] = s"
   ]
  },
  {
   "cell_type": "code",
   "execution_count": 12,
   "metadata": {},
   "outputs": [
    {
     "data": {
      "text/plain": [
       "1    85758\n",
       "0     1740\n",
       "Name: ret, dtype: int64"
      ]
     },
     "execution_count": 12,
     "metadata": {},
     "output_type": "execute_result"
    }
   ],
   "source": [
    "res.ret.value_counts()"
   ]
  },
  {
   "cell_type": "markdown",
   "metadata": {},
   "source": [
    "### 结果保存为csv文件进行提交"
   ]
  },
  {
   "cell_type": "code",
   "execution_count": 13,
   "metadata": {},
   "outputs": [],
   "source": [
    "res.to_csv('submit.csv',header=True,index=False)"
   ]
  }
 ],
 "metadata": {
  "kernelspec": {
   "display_name": "Python 3",
   "language": "python",
   "name": "python3"
  },
  "language_info": {
   "codemirror_mode": {
    "name": "ipython",
    "version": 3
   },
   "file_extension": ".py",
   "mimetype": "text/x-python",
   "name": "python",
   "nbconvert_exporter": "python",
   "pygments_lexer": "ipython3",
   "version": "3.6.5"
  }
 },
 "nbformat": 4,
 "nbformat_minor": 2
}
