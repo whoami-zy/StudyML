{
 "cells": [
  {
   "cell_type": "markdown",
   "metadata": {},
   "source": [
    "### 引入相关包\n",
    "    版本说明：\n",
    "        python3.6.5 \n",
    "        conda 4.5.4  "
   ]
  },
  {
   "cell_type": "code",
   "execution_count": 1,
   "metadata": {},
   "outputs": [],
   "source": [
    "import zipfile\n",
    "import pandas as pd"
   ]
  },
  {
   "cell_type": "markdown",
   "metadata": {},
   "source": [
    "### 路径说明  windows\n",
    "    引入文件路径\n",
    "        当前文件夹下面的data文件夹存放了训练集和测试集以及标注文件    "
   ]
  },
  {
   "cell_type": "code",
   "execution_count": 2,
   "metadata": {},
   "outputs": [],
   "source": [
    "\"\"\"\n",
    "trainZip   使用zipfile,将训练集读入\n",
    "testZip    使用zipfile,将测试集读入\n",
    "columnsNames  文件列名\n",
    "\"\"\"\n",
    "trainZip = zipfile.ZipFile('./data/train.zip')\n",
    "testZip = zipfile.ZipFile('./data/test.zip')\n",
    "columnsNames = ['轮毂转速', '轮毂角度', '叶片1角度', '叶片2角度', '叶片3角度', '变桨电机1电流', '变桨电机2电流',\n",
    "       '变桨电机3电流', '超速传感器转速检测值', '5秒偏航对风平均值', 'x方向振动值', 'y方向振动值', '液压制动压力',\n",
    "       '机舱气象站风速', '风向绝对值', '大气压力', '无功功率控制状态', '变频器电网侧电流', '变频器电网侧电压',\n",
    "       '变频器电网侧有功功率', '变频器电网侧无功功率', '变频器发电机侧功率', '发电机运行频率', '发电机电流', '发电机转矩',\n",
    "       '变频器入口温度', '变频器出口温度', '变频器入口压力', '变频器出口压力', '发电机功率限幅值', '无功功率设定值',\n",
    "       '额定的轮毂转速', '测风塔环境温度', '发电机定子温度1', '发电机定子温度2', '发电机定子温度3', '发电机定子温度4',\n",
    "       '发电机定子温度5', '发电机定子温度6', '发电机空气温度1', '发电机空气温度2', '主轴承温度1', '主轴承温度2',\n",
    "       '轮毂温度', '轮毂控制柜温度', '机舱温度', '机舱控制柜温度', '变频器INU温度', '变频器ISU温度',\n",
    "       '变频器INU RMIO温度', '变桨电机1功率估算', '变桨电机2功率估算', '变桨电机3功率估算', '风机当前状态值',\n",
    "       '轮毂当前状态值', '偏航状态值', '偏航要求值', '叶片1电池箱温度', '叶片2电池箱温度', '叶片3电池箱温度',\n",
    "       '叶片1变桨电机温度', '叶片2变桨电机温度', '叶片3变桨电机温度', '叶片1变频器箱温度', '叶片2变频器箱温度',\n",
    "       '叶片3变频器箱温度', '叶片1超级电容电压', '叶片2超级电容电压', '叶片3超级电容电压', '驱动1晶闸管温度',\n",
    "       '驱动2晶闸管温度', '驱动3晶闸管温度', '驱动1输出扭矩', '驱动2输出扭矩', '驱动3输出扭矩']"
   ]
  },
  {
   "cell_type": "code",
   "execution_count": 3,
   "metadata": {},
   "outputs": [],
   "source": [
    "\"\"\"\n",
    "获取压缩包里面的文件路径\n",
    "\n",
    "\"\"\"\n",
    "trainfileNameList = trainZip.namelist()\n",
    "testfileNameList = testZip.namelist()"
   ]
  },
  {
   "cell_type": "code",
   "execution_count": 4,
   "metadata": {},
   "outputs": [],
   "source": [
    "\"\"\"\n",
    "定义两个list  分别存放解析后的train和test的feature\n",
    "\"\"\"\n",
    "trainDFList = []\n",
    "testDFList = []"
   ]
  },
  {
   "cell_type": "markdown",
   "metadata": {},
   "source": [
    "### 构造训练集特征"
   ]
  },
  {
   "cell_type": "code",
   "execution_count": 5,
   "metadata": {},
   "outputs": [],
   "source": [
    "\"\"\"\n",
    "循环遍历zip包里面的文件路径，解析到csv文件，然后读取里面的内容，构建相关特征\n",
    "\"\"\"\n",
    "for fname in trainfileNameList:\n",
    "    if fname.endswith('.csv'):\n",
    "        dict_f = {}\n",
    "        dict_f['file_name'] = fname.split('/')[-1]\n",
    "        f_info = trainZip.getinfo(fname)\n",
    "        fo = trainZip.open(f_info)\n",
    "        fDF = pd.read_csv(fo)\n",
    "        dfmean=fDF.mean()\n",
    "        dfmin = fDF.min()\n",
    "        dfmax = fDF.max()\n",
    "        dfstd = fDF.std()\n",
    "        fDF_diff = fDF.diff(1).drop(0,0)\n",
    "        df_diffmean= fDF_diff.mean()\n",
    "        df_diffmin = fDF_diff.min()\n",
    "        df_diffmax = fDF_diff.max()\n",
    "        df_diffstd = fDF_diff.std()\n",
    "        for col in columnsNames:\n",
    "            dict_f[col+'_mean'] = dfmean[col]\n",
    "            dict_f[col+'_diff_mean'] = df_diffmean[col]\n",
    "            \n",
    "            dict_f[col+'_min'] = dfmin[col]\n",
    "            dict_f[col+'_diff_min'] = df_diffmin[col]\n",
    "            \n",
    "            dict_f[col+'_max'] = dfmax[col]\n",
    "            dict_f[col+'_diff_max'] = df_diffmax[col]\n",
    "            \n",
    "            dict_f[col+'_std'] = dfstd[col]\n",
    "            dict_f[col+'_diff_std'] = df_diffstd[col]\n",
    "        trainDFList.append(dict_f)\n",
    "    else:\n",
    "        continue"
   ]
  },
  {
   "cell_type": "markdown",
   "metadata": {},
   "source": [
    "### 构造测试集特征"
   ]
  },
  {
   "cell_type": "code",
   "execution_count": 6,
   "metadata": {},
   "outputs": [],
   "source": [
    "for fname in testfileNameList:\n",
    "    if fname.endswith('.csv'):\n",
    "        dict_f = {}\n",
    "        dict_f['file_name'] = fname.split('/')[-1]\n",
    "        f_info = testZip.getinfo(fname)\n",
    "        fo = testZip.open(f_info)\n",
    "        fDF = pd.read_csv(fo)\n",
    "        dfmean=fDF.mean()\n",
    "        dfmin = fDF.min()\n",
    "        dfmax = fDF.max()\n",
    "        dfstd = fDF.std()\n",
    "        fDF_diff = fDF.diff(1).drop(0,0)\n",
    "        df_diffmean= fDF_diff.mean()\n",
    "        df_diffmin = fDF_diff.min()\n",
    "        df_diffmax = fDF_diff.max()\n",
    "        df_diffstd = fDF_diff.std()\n",
    "        for col in columnsNames:\n",
    "            dict_f[col+'_mean'] = dfmean[col]\n",
    "            dict_f[col+'_diff_mean'] = df_diffmean[col]\n",
    "            \n",
    "            dict_f[col+'_min'] = dfmin[col]\n",
    "            dict_f[col+'_diff_min'] = df_diffmin[col]\n",
    "            \n",
    "            dict_f[col+'_max'] = dfmax[col]\n",
    "            dict_f[col+'_diff_max'] = df_diffmax[col]\n",
    "            \n",
    "            dict_f[col+'_std'] = dfstd[col]\n",
    "            dict_f[col+'_diff_std'] = df_diffstd[col]\n",
    "        testDFList.append(dict_f)\n",
    "    else:\n",
    "        continue"
   ]
  },
  {
   "cell_type": "code",
   "execution_count": 7,
   "metadata": {},
   "outputs": [],
   "source": [
    "\"\"\"\n",
    "将list转换为DataFrame\n",
    "\"\"\"\n",
    "testDF = pd.DataFrame(testDFList)\n",
    "trainDF = pd.DataFrame(trainDFList)"
   ]
  },
  {
   "cell_type": "markdown",
   "metadata": {},
   "source": [
    "### 保存特征集"
   ]
  },
  {
   "cell_type": "code",
   "execution_count": 8,
   "metadata": {},
   "outputs": [],
   "source": [
    "trainDF.to_csv('./data/train_feature.csv',header=True,index=False)\n",
    "testDF.to_csv('./data/test_feature.csv',header=True,index=False)"
   ]
  },
  {
   "cell_type": "code",
   "execution_count": null,
   "metadata": {},
   "outputs": [],
   "source": []
  }
 ],
 "metadata": {
  "kernelspec": {
   "display_name": "Python 3",
   "language": "python",
   "name": "python3"
  },
  "language_info": {
   "codemirror_mode": {
    "name": "ipython",
    "version": 3
   },
   "file_extension": ".py",
   "mimetype": "text/x-python",
   "name": "python",
   "nbconvert_exporter": "python",
   "pygments_lexer": "ipython3",
   "version": "3.6.5"
  }
 },
 "nbformat": 4,
 "nbformat_minor": 2
}
